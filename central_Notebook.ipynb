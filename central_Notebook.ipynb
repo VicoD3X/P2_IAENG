{
 "cells": [
  {
   "cell_type": "code",
   "execution_count": 2,
   "metadata": {},
   "outputs": [
    {
     "name": "stdout",
     "output_type": "stream",
     "text": [
      "Bonjour, Alice!\n",
      "Bonjour, Bob!\n",
      "Bonjour, Charlie!\n"
     ]
    }
   ],
   "source": [
    "def dire_bonjour(nom):\n",
    "  \"\"\"Cette fonction prend un nom en entrée et affiche un message de bienvenue.\"\"\"\n",
    "  print(f\"Bonjour, {nom}!\")\n",
    "\n",
    "# Appel de la fonction avec un nom\n",
    "dire_bonjour(\"Alice\")\n",
    "dire_bonjour(\"Bob\")\n",
    "dire_bonjour(\"Charlie\")\n"
   ]
  }
 ],
 "metadata": {
  "kernelspec": {
   "display_name": "Project2",
   "language": "python",
   "name": "python3"
  },
  "language_info": {
   "codemirror_mode": {
    "name": "ipython",
    "version": 3
   },
   "file_extension": ".py",
   "mimetype": "text/x-python",
   "name": "python",
   "nbconvert_exporter": "python",
   "pygments_lexer": "ipython3",
   "version": "3.12.5"
  }
 },
 "nbformat": 4,
 "nbformat_minor": 2
}
